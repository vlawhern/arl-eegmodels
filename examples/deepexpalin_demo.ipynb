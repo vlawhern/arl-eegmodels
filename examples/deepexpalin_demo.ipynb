{
  "nbformat": 4,
  "nbformat_minor": 2,
  "metadata": {
    "colab": {
      "name": "deepexpalin_demo.ipynb",
      "provenance": [],
      "collapsed_sections": []
    },
    "kernelspec": {
      "name": "python3",
      "display_name": "Python 3"
    },
    "language_info": {
      "name": "python"
    },
    "accelerator": "GPU",
    "widgets": {
      "application/vnd.jupyter.widget-state+json": {
        "74c8072a4a0b4cc0b69c7c320c7b6b20": {
          "model_module": "@jupyter-widgets/controls",
          "model_name": "HBoxModel",
          "model_module_version": "1.5.0",
          "state": {
            "_view_name": "HBoxView",
            "_dom_classes": [],
            "_model_name": "HBoxModel",
            "_view_module": "@jupyter-widgets/controls",
            "_model_module_version": "1.5.0",
            "_view_count": null,
            "_view_module_version": "1.5.0",
            "box_style": "",
            "layout": "IPY_MODEL_0e0efa06707648f48342809742ff7b1a",
            "_model_module": "@jupyter-widgets/controls",
            "children": [
              "IPY_MODEL_7f7a6bff868742e880e8f852dd06682c",
              "IPY_MODEL_9b6a00af9e1049d9b9769ff3ea1a409c",
              "IPY_MODEL_1907af2f695d494195466c79cd1a603e"
            ]
          }
        },
        "0e0efa06707648f48342809742ff7b1a": {
          "model_module": "@jupyter-widgets/base",
          "model_name": "LayoutModel",
          "model_module_version": "1.2.0",
          "state": {
            "_view_name": "LayoutView",
            "grid_template_rows": null,
            "right": null,
            "justify_content": null,
            "_view_module": "@jupyter-widgets/base",
            "overflow": null,
            "_model_module_version": "1.2.0",
            "_view_count": null,
            "flex_flow": null,
            "width": null,
            "min_width": null,
            "border": null,
            "align_items": null,
            "bottom": null,
            "_model_module": "@jupyter-widgets/base",
            "top": null,
            "grid_column": null,
            "overflow_y": null,
            "overflow_x": null,
            "grid_auto_flow": null,
            "grid_area": null,
            "grid_template_columns": null,
            "flex": null,
            "_model_name": "LayoutModel",
            "justify_items": null,
            "grid_row": null,
            "max_height": null,
            "align_content": null,
            "visibility": null,
            "align_self": null,
            "height": null,
            "min_height": null,
            "padding": null,
            "grid_auto_rows": null,
            "grid_gap": null,
            "max_width": null,
            "order": null,
            "_view_module_version": "1.2.0",
            "grid_template_areas": null,
            "object_position": null,
            "object_fit": null,
            "grid_auto_columns": null,
            "margin": null,
            "display": null,
            "left": null
          }
        },
        "7f7a6bff868742e880e8f852dd06682c": {
          "model_module": "@jupyter-widgets/controls",
          "model_name": "HTMLModel",
          "model_module_version": "1.5.0",
          "state": {
            "_view_name": "HTMLView",
            "style": "IPY_MODEL_f9555d9f2ace43cbb2a3ff24bbf471fa",
            "_dom_classes": [],
            "description": "",
            "_model_name": "HTMLModel",
            "placeholder": "​",
            "_view_module": "@jupyter-widgets/controls",
            "_model_module_version": "1.5.0",
            "value": "100%",
            "_view_count": null,
            "_view_module_version": "1.5.0",
            "description_tooltip": null,
            "_model_module": "@jupyter-widgets/controls",
            "layout": "IPY_MODEL_caeb9a60981d4bc68e528b54f069f43c"
          }
        },
        "9b6a00af9e1049d9b9769ff3ea1a409c": {
          "model_module": "@jupyter-widgets/controls",
          "model_name": "FloatProgressModel",
          "model_module_version": "1.5.0",
          "state": {
            "_view_name": "ProgressView",
            "style": "IPY_MODEL_ff0627d0a29b4718a7250802ba82f577",
            "_dom_classes": [],
            "description": "",
            "_model_name": "FloatProgressModel",
            "bar_style": "success",
            "max": 1652769680,
            "_view_module": "@jupyter-widgets/controls",
            "_model_module_version": "1.5.0",
            "value": 1652769680,
            "_view_count": null,
            "_view_module_version": "1.5.0",
            "orientation": "horizontal",
            "min": 0,
            "description_tooltip": null,
            "_model_module": "@jupyter-widgets/controls",
            "layout": "IPY_MODEL_24a02636a6b447b8b31f44c8e00f9069"
          }
        },
        "1907af2f695d494195466c79cd1a603e": {
          "model_module": "@jupyter-widgets/controls",
          "model_name": "HTMLModel",
          "model_module_version": "1.5.0",
          "state": {
            "_view_name": "HTMLView",
            "style": "IPY_MODEL_a0b17981e7994743a7ceea417cdabeef",
            "_dom_classes": [],
            "description": "",
            "_model_name": "HTMLModel",
            "placeholder": "​",
            "_view_module": "@jupyter-widgets/controls",
            "_model_module_version": "1.5.0",
            "value": " Downloading : 1.54G/1.54G [09:59&lt;00:00,    4.51MB/s]",
            "_view_count": null,
            "_view_module_version": "1.5.0",
            "description_tooltip": null,
            "_model_module": "@jupyter-widgets/controls",
            "layout": "IPY_MODEL_ddc421db20ab47579bb8cba81d1c0bda"
          }
        },
        "f9555d9f2ace43cbb2a3ff24bbf471fa": {
          "model_module": "@jupyter-widgets/controls",
          "model_name": "DescriptionStyleModel",
          "model_module_version": "1.5.0",
          "state": {
            "_view_name": "StyleView",
            "_model_name": "DescriptionStyleModel",
            "description_width": "",
            "_view_module": "@jupyter-widgets/base",
            "_model_module_version": "1.5.0",
            "_view_count": null,
            "_view_module_version": "1.2.0",
            "_model_module": "@jupyter-widgets/controls"
          }
        },
        "caeb9a60981d4bc68e528b54f069f43c": {
          "model_module": "@jupyter-widgets/base",
          "model_name": "LayoutModel",
          "model_module_version": "1.2.0",
          "state": {
            "_view_name": "LayoutView",
            "grid_template_rows": null,
            "right": null,
            "justify_content": null,
            "_view_module": "@jupyter-widgets/base",
            "overflow": null,
            "_model_module_version": "1.2.0",
            "_view_count": null,
            "flex_flow": null,
            "width": null,
            "min_width": null,
            "border": null,
            "align_items": null,
            "bottom": null,
            "_model_module": "@jupyter-widgets/base",
            "top": null,
            "grid_column": null,
            "overflow_y": null,
            "overflow_x": null,
            "grid_auto_flow": null,
            "grid_area": null,
            "grid_template_columns": null,
            "flex": null,
            "_model_name": "LayoutModel",
            "justify_items": null,
            "grid_row": null,
            "max_height": null,
            "align_content": null,
            "visibility": null,
            "align_self": null,
            "height": null,
            "min_height": null,
            "padding": null,
            "grid_auto_rows": null,
            "grid_gap": null,
            "max_width": null,
            "order": null,
            "_view_module_version": "1.2.0",
            "grid_template_areas": null,
            "object_position": null,
            "object_fit": null,
            "grid_auto_columns": null,
            "margin": null,
            "display": null,
            "left": null
          }
        },
        "ff0627d0a29b4718a7250802ba82f577": {
          "model_module": "@jupyter-widgets/controls",
          "model_name": "ProgressStyleModel",
          "model_module_version": "1.5.0",
          "state": {
            "_view_name": "StyleView",
            "_model_name": "ProgressStyleModel",
            "description_width": "",
            "_view_module": "@jupyter-widgets/base",
            "_model_module_version": "1.5.0",
            "_view_count": null,
            "_view_module_version": "1.2.0",
            "bar_color": null,
            "_model_module": "@jupyter-widgets/controls"
          }
        },
        "24a02636a6b447b8b31f44c8e00f9069": {
          "model_module": "@jupyter-widgets/base",
          "model_name": "LayoutModel",
          "model_module_version": "1.2.0",
          "state": {
            "_view_name": "LayoutView",
            "grid_template_rows": null,
            "right": null,
            "justify_content": null,
            "_view_module": "@jupyter-widgets/base",
            "overflow": null,
            "_model_module_version": "1.2.0",
            "_view_count": null,
            "flex_flow": null,
            "width": null,
            "min_width": null,
            "border": null,
            "align_items": null,
            "bottom": null,
            "_model_module": "@jupyter-widgets/base",
            "top": null,
            "grid_column": null,
            "overflow_y": null,
            "overflow_x": null,
            "grid_auto_flow": null,
            "grid_area": null,
            "grid_template_columns": null,
            "flex": null,
            "_model_name": "LayoutModel",
            "justify_items": null,
            "grid_row": null,
            "max_height": null,
            "align_content": null,
            "visibility": null,
            "align_self": null,
            "height": null,
            "min_height": null,
            "padding": null,
            "grid_auto_rows": null,
            "grid_gap": null,
            "max_width": null,
            "order": null,
            "_view_module_version": "1.2.0",
            "grid_template_areas": null,
            "object_position": null,
            "object_fit": null,
            "grid_auto_columns": null,
            "margin": null,
            "display": null,
            "left": null
          }
        },
        "a0b17981e7994743a7ceea417cdabeef": {
          "model_module": "@jupyter-widgets/controls",
          "model_name": "DescriptionStyleModel",
          "model_module_version": "1.5.0",
          "state": {
            "_view_name": "StyleView",
            "_model_name": "DescriptionStyleModel",
            "description_width": "",
            "_view_module": "@jupyter-widgets/base",
            "_model_module_version": "1.5.0",
            "_view_count": null,
            "_view_module_version": "1.2.0",
            "_model_module": "@jupyter-widgets/controls"
          }
        },
        "ddc421db20ab47579bb8cba81d1c0bda": {
          "model_module": "@jupyter-widgets/base",
          "model_name": "LayoutModel",
          "model_module_version": "1.2.0",
          "state": {
            "_view_name": "LayoutView",
            "grid_template_rows": null,
            "right": null,
            "justify_content": null,
            "_view_module": "@jupyter-widgets/base",
            "overflow": null,
            "_model_module_version": "1.2.0",
            "_view_count": null,
            "flex_flow": null,
            "width": null,
            "min_width": null,
            "border": null,
            "align_items": null,
            "bottom": null,
            "_model_module": "@jupyter-widgets/base",
            "top": null,
            "grid_column": null,
            "overflow_y": null,
            "overflow_x": null,
            "grid_auto_flow": null,
            "grid_area": null,
            "grid_template_columns": null,
            "flex": null,
            "_model_name": "LayoutModel",
            "justify_items": null,
            "grid_row": null,
            "max_height": null,
            "align_content": null,
            "visibility": null,
            "align_self": null,
            "height": null,
            "min_height": null,
            "padding": null,
            "grid_auto_rows": null,
            "grid_gap": null,
            "max_width": null,
            "order": null,
            "_view_module_version": "1.2.0",
            "grid_template_areas": null,
            "object_position": null,
            "object_fit": null,
            "grid_auto_columns": null,
            "margin": null,
            "display": null,
            "left": null
          }
        }
      }
    }
  },
  "cells": [
    {
      "cell_type": "code",
      "execution_count": 1,
      "source": [
        "!nvidia-smi"
      ],
      "outputs": [
        {
          "output_type": "stream",
          "name": "stdout",
          "text": [
            "Thu Sep 23 10:21:03 2021       \n",
            "+-----------------------------------------------------------------------------+\n",
            "| NVIDIA-SMI 470.63.01    Driver Version: 460.32.03    CUDA Version: 11.2     |\n",
            "|-------------------------------+----------------------+----------------------+\n",
            "| GPU  Name        Persistence-M| Bus-Id        Disp.A | Volatile Uncorr. ECC |\n",
            "| Fan  Temp  Perf  Pwr:Usage/Cap|         Memory-Usage | GPU-Util  Compute M. |\n",
            "|                               |                      |               MIG M. |\n",
            "|===============================+======================+======================|\n",
            "|   0  Tesla K80           Off  | 00000000:00:04.0 Off |                    0 |\n",
            "| N/A   51C    P8    30W / 149W |      0MiB / 11441MiB |      0%      Default |\n",
            "|                               |                      |                  N/A |\n",
            "+-------------------------------+----------------------+----------------------+\n",
            "                                                                               \n",
            "+-----------------------------------------------------------------------------+\n",
            "| Processes:                                                                  |\n",
            "|  GPU   GI   CI        PID   Type   Process name                  GPU Memory |\n",
            "|        ID   ID                                                   Usage      |\n",
            "|=============================================================================|\n",
            "|  No running processes found                                                 |\n",
            "+-----------------------------------------------------------------------------+\n"
          ]
        }
      ],
      "metadata": {
        "colab": {
          "base_uri": "https://localhost:8080/"
        },
        "id": "K9X_RKB2CeXy",
        "outputId": "9475f7e7-bb9b-43c0-8d88-095d4607fd20"
      }
    },
    {
      "cell_type": "code",
      "execution_count": 2,
      "source": [
        "!pip install git+https://github.com/alexus37/MasterThesisCode.git#egg=deepexplain"
      ],
      "outputs": [
        {
          "output_type": "stream",
          "name": "stdout",
          "text": [
            "Collecting deepexplain\n",
            "  Cloning https://github.com/alexus37/MasterThesisCode.git to /tmp/pip-install-fj0l0sza/deepexplain_3d85010ca4d34b2287ee0533629c9ee4\n",
            "  Running command git clone -q https://github.com/alexus37/MasterThesisCode.git /tmp/pip-install-fj0l0sza/deepexplain_3d85010ca4d34b2287ee0533629c9ee4\n",
            "Requirement already satisfied: scipy in /usr/local/lib/python3.7/dist-packages (from deepexplain) (1.4.1)\n",
            "Requirement already satisfied: matplotlib in /usr/local/lib/python3.7/dist-packages (from deepexplain) (3.2.2)\n",
            "Requirement already satisfied: scikit-image in /usr/local/lib/python3.7/dist-packages (from deepexplain) (0.16.2)\n",
            "Requirement already satisfied: numpy>=1.11 in /usr/local/lib/python3.7/dist-packages (from matplotlib->deepexplain) (1.19.5)\n",
            "Requirement already satisfied: kiwisolver>=1.0.1 in /usr/local/lib/python3.7/dist-packages (from matplotlib->deepexplain) (1.3.2)\n",
            "Requirement already satisfied: cycler>=0.10 in /usr/local/lib/python3.7/dist-packages (from matplotlib->deepexplain) (0.10.0)\n",
            "Requirement already satisfied: python-dateutil>=2.1 in /usr/local/lib/python3.7/dist-packages (from matplotlib->deepexplain) (2.8.2)\n",
            "Requirement already satisfied: pyparsing!=2.0.4,!=2.1.2,!=2.1.6,>=2.0.1 in /usr/local/lib/python3.7/dist-packages (from matplotlib->deepexplain) (2.4.7)\n",
            "Requirement already satisfied: six in /usr/local/lib/python3.7/dist-packages (from cycler>=0.10->matplotlib->deepexplain) (1.15.0)\n",
            "Requirement already satisfied: networkx>=2.0 in /usr/local/lib/python3.7/dist-packages (from scikit-image->deepexplain) (2.6.3)\n",
            "Requirement already satisfied: PyWavelets>=0.4.0 in /usr/local/lib/python3.7/dist-packages (from scikit-image->deepexplain) (1.1.1)\n",
            "Requirement already satisfied: pillow>=4.3.0 in /usr/local/lib/python3.7/dist-packages (from scikit-image->deepexplain) (7.1.2)\n",
            "Requirement already satisfied: imageio>=2.3.0 in /usr/local/lib/python3.7/dist-packages (from scikit-image->deepexplain) (2.4.1)\n",
            "Building wheels for collected packages: deepexplain\n",
            "  Building wheel for deepexplain (setup.py) ... \u001b[?25l\u001b[?25hdone\n",
            "  Created wheel for deepexplain: filename=deepexplain-0.3-py3-none-any.whl size=33172 sha256=93d91a7488642663cf522a58f4eec5dd78dbb40f815ee501a480c2d9ca92daf9\n",
            "  Stored in directory: /tmp/pip-ephem-wheel-cache-tdteeyxr/wheels/b7/5f/5b/3f0104a275ea017edb3d7f12160edd759e35aa67ab7c55b9c4\n",
            "Successfully built deepexplain\n",
            "Installing collected packages: deepexplain\n",
            "Successfully installed deepexplain-0.3\n"
          ]
        }
      ],
      "metadata": {
        "colab": {
          "base_uri": "https://localhost:8080/"
        },
        "id": "1txsp8NFCnTV",
        "outputId": "0af289cb-d991-45e7-82e7-965e6bec1388"
      }
    },
    {
      "cell_type": "code",
      "execution_count": 3,
      "source": [
        "!pip -q install mne"
      ],
      "outputs": [
        {
          "output_type": "stream",
          "name": "stdout",
          "text": [
            "\u001b[K     |████████████████████████████████| 6.9 MB 5.4 MB/s \n",
            "\u001b[?25h"
          ]
        }
      ],
      "metadata": {
        "colab": {
          "base_uri": "https://localhost:8080/"
        },
        "id": "OjLIk06MHmeV",
        "outputId": "d9c03f36-f950-4a5e-a948-73ec57ad56d0"
      }
    },
    {
      "cell_type": "code",
      "execution_count": 4,
      "source": [
        "from tensorflow.keras.models import Model\r\n",
        "from tensorflow.keras.layers import Dense, Activation, Permute, Dropout\r\n",
        "from tensorflow.keras.layers import Conv2D, MaxPooling2D, AveragePooling2D\r\n",
        "from tensorflow.keras.layers import SeparableConv2D, DepthwiseConv2D\r\n",
        "from tensorflow.keras.layers import BatchNormalization\r\n",
        "from tensorflow.keras.layers import SpatialDropout2D\r\n",
        "from tensorflow.keras.regularizers import l1_l2\r\n",
        "from tensorflow.keras.layers import Input, Flatten\r\n",
        "from tensorflow.keras.constraints import max_norm\r\n",
        "\r\n",
        "\r\n",
        "def EEGNet(nb_classes, Chans = 64, Samples = 128, \r\n",
        "             dropoutRate = 0.5, kernLength = 64, F1 = 8, \r\n",
        "             D = 2, F2 = 16, norm_rate = 0.25, dropoutType = 'Dropout'):\r\n",
        "    \"\"\" Keras Implementation of EEGNet\r\n",
        "    http://iopscience.iop.org/article/10.1088/1741-2552/aace8c/meta\r\n",
        "    Note that this implements the newest version of EEGNet and NOT the earlier\r\n",
        "    version (version v1 and v2 on arxiv). We strongly recommend using this\r\n",
        "    architecture as it performs much better and has nicer properties than\r\n",
        "    our earlier version. For example:\r\n",
        "        \r\n",
        "        1. Depthwise Convolutions to learn spatial filters within a \r\n",
        "        temporal convolution. The use of the depth_multiplier option maps \r\n",
        "        exactly to the number of spatial filters learned within a temporal\r\n",
        "        filter. This matches the setup of algorithms like FBCSP which learn \r\n",
        "        spatial filters within each filter in a filter-bank. This also limits \r\n",
        "        the number of free parameters to fit when compared to a fully-connected\r\n",
        "        convolution. \r\n",
        "        \r\n",
        "        2. Separable Convolutions to learn how to optimally combine spatial\r\n",
        "        filters across temporal bands. Separable Convolutions are Depthwise\r\n",
        "        Convolutions followed by (1x1) Pointwise Convolutions. \r\n",
        "        \r\n",
        "    \r\n",
        "    While the original paper used Dropout, we found that SpatialDropout2D \r\n",
        "    sometimes produced slightly better results for classification of ERP \r\n",
        "    signals. However, SpatialDropout2D significantly reduced performance \r\n",
        "    on the Oscillatory dataset (SMR, BCI-IV Dataset 2A). We recommend using\r\n",
        "    the default Dropout in most cases.\r\n",
        "        \r\n",
        "    Assumes the input signal is sampled at 128Hz. If you want to use this model\r\n",
        "    for any other sampling rate you will need to modify the lengths of temporal\r\n",
        "    kernels and average pooling size in blocks 1 and 2 as needed (double the \r\n",
        "    kernel lengths for double the sampling rate, etc). Note that we haven't \r\n",
        "    tested the model performance with this rule so this may not work well. \r\n",
        "    \r\n",
        "    The model with default parameters gives the EEGNet-8,2 model as discussed\r\n",
        "    in the paper. This model should do pretty well in general, although it is\r\n",
        "\tadvised to do some model searching to get optimal performance on your\r\n",
        "\tparticular dataset.\r\n",
        "    We set F2 = F1 * D (number of input filters = number of output filters) for\r\n",
        "    the SeparableConv2D layer. We haven't extensively tested other values of this\r\n",
        "    parameter (say, F2 < F1 * D for compressed learning, and F2 > F1 * D for\r\n",
        "    overcomplete). We believe the main parameters to focus on are F1 and D. \r\n",
        "    Inputs:\r\n",
        "        \r\n",
        "      nb_classes      : int, number of classes to classify\r\n",
        "      Chans, Samples  : number of channels and time points in the EEG data\r\n",
        "      dropoutRate     : dropout fraction\r\n",
        "      kernLength      : length of temporal convolution in first layer. We found\r\n",
        "                        that setting this to be half the sampling rate worked\r\n",
        "                        well in practice. For the SMR dataset in particular\r\n",
        "                        since the data was high-passed at 4Hz we used a kernel\r\n",
        "                        length of 32.     \r\n",
        "      F1, F2          : number of temporal filters (F1) and number of pointwise\r\n",
        "                        filters (F2) to learn. Default: F1 = 8, F2 = F1 * D. \r\n",
        "      D               : number of spatial filters to learn within each temporal\r\n",
        "                        convolution. Default: D = 2\r\n",
        "      dropoutType     : Either SpatialDropout2D or Dropout, passed as a string.\r\n",
        "    \"\"\"\r\n",
        "    \r\n",
        "    if dropoutType == 'SpatialDropout2D':\r\n",
        "        dropoutType = SpatialDropout2D\r\n",
        "    elif dropoutType == 'Dropout':\r\n",
        "        dropoutType = Dropout\r\n",
        "    else:\r\n",
        "        raise ValueError('dropoutType must be one of SpatialDropout2D '\r\n",
        "                         'or Dropout, passed as a string.')\r\n",
        "    \r\n",
        "    input1   = Input(shape = (Chans, Samples, 1))\r\n",
        "\r\n",
        "    ##################################################################\r\n",
        "    block1       = Conv2D(F1, (1, kernLength), padding = 'same',\r\n",
        "                                   input_shape = (Chans, Samples, 1),\r\n",
        "                                   use_bias = False)(input1)\r\n",
        "    block1       = BatchNormalization()(block1)\r\n",
        "    block1       = DepthwiseConv2D((Chans, 1), use_bias = False, \r\n",
        "                                   depth_multiplier = D,\r\n",
        "                                   depthwise_constraint = max_norm(1.))(block1)\r\n",
        "    block1       = BatchNormalization()(block1)\r\n",
        "    block1       = Activation('elu')(block1)\r\n",
        "    block1       = AveragePooling2D((1, 4))(block1)\r\n",
        "    block1       = dropoutType(dropoutRate)(block1)\r\n",
        "    \r\n",
        "    block2       = SeparableConv2D(F2, (1, 16),\r\n",
        "                                   use_bias = False, padding = 'same')(block1)\r\n",
        "    block2       = BatchNormalization()(block2)\r\n",
        "    block2       = Activation('elu')(block2)\r\n",
        "    block2       = AveragePooling2D((1, 8))(block2)\r\n",
        "    block2       = dropoutType(dropoutRate)(block2)\r\n",
        "        \r\n",
        "    flatten      = Flatten(name = 'flatten')(block2)\r\n",
        "    \r\n",
        "    dense        = Dense(nb_classes, name = 'dense', \r\n",
        "                         kernel_constraint = max_norm(norm_rate))(flatten)\r\n",
        "    softmax      = Activation('softmax', name = 'softmax')(dense)\r\n",
        "    \r\n",
        "    return Model(inputs=input1, outputs=softmax)"
      ],
      "outputs": [],
      "metadata": {
        "id": "PsG2dqEmFlyV"
      }
    },
    {
      "cell_type": "code",
      "execution_count": 5,
      "source": [
        "# import tensorflow and disable eager execution right up front\r\n",
        "import tensorflow as tf\r\n",
        "tf.compat.v1.disable_eager_execution()\r\n",
        "\r\n",
        "import numpy as np\r\n",
        "\r\n",
        "# mne imports\r\n",
        "import mne\r\n",
        "from mne import io\r\n",
        "from mne.datasets import sample\r\n",
        "\r\n",
        "\r\n",
        "from tensorflow.keras import utils as np_utils\r\n",
        "from tensorflow.keras.callbacks import ModelCheckpoint\r\n",
        "import tensorflow.compat.v1.keras.backend as K\r\n",
        "from tensorflow.keras.models import Model\r\n",
        "\r\n",
        "\r\n",
        "from deepexplain.tf.v2_x import DeepExplain\r\n",
        "# while the default tensorflow ordering is 'channels_last' we set it here\r\n",
        "# to be explicit in case if the user has changed the default ordering\r\n",
        "K.set_image_data_format('channels_last')\r\n",
        "\r\n",
        "##################### Process, filter and epoch the data ######################\r\n",
        "data_path = sample.data_path()\r\n",
        "\r\n",
        "# Set parameters and read data\r\n",
        "raw_fname = data_path + '/MEG/sample/sample_audvis_filt-0-40_raw.fif'\r\n",
        "event_fname = data_path + '/MEG/sample/sample_audvis_filt-0-40_raw-eve.fif'\r\n",
        "tmin, tmax = -0., 1\r\n",
        "event_id = dict(aud_l=1, aud_r=2, vis_l=3, vis_r=4)\r\n",
        "\r\n",
        "# Setup for reading the raw data\r\n",
        "raw = io.Raw(raw_fname, preload=True, verbose=False)\r\n",
        "raw.filter(2, None, method='iir')  # replace baselining with high-pass\r\n",
        "events = mne.read_events(event_fname)\r\n",
        "\r\n",
        "raw.info['bads'] = ['MEG 2443']  # set bad channels\r\n",
        "picks = mne.pick_types(raw.info, meg=False, eeg=True, stim=False, eog=False,\r\n",
        "                       exclude='bads')\r\n",
        "\r\n",
        "# Read epochs\r\n",
        "epochs = mne.Epochs(raw, events, event_id, tmin, tmax, proj=False,\r\n",
        "                    picks=picks, baseline=None, preload=True, verbose=False)\r\n",
        "labels = epochs.events[:, -1]\r\n",
        "\r\n",
        "# extract raw data. scale by 1000 due to scaling sensitivity in deep learning\r\n",
        "X = epochs.get_data()*1000 # format is in (trials, channels, samples)\r\n",
        "y = labels\r\n",
        "\r\n",
        "kernels, chans, samples = 1, 60, 151\r\n",
        "\r\n",
        "# take 50/25/25 percent of the data to train/validate/test\r\n",
        "X_train      = X[0:144,]\r\n",
        "Y_train      = y[0:144]\r\n",
        "X_validate   = X[144:216,]\r\n",
        "Y_validate   = y[144:216]\r\n",
        "X_test       = X[216:,]\r\n",
        "Y_test       = y[216:]\r\n",
        "\r\n",
        "# convert labels to one-hot encodings.\r\n",
        "Y_train      = np_utils.to_categorical(Y_train-1)\r\n",
        "Y_validate   = np_utils.to_categorical(Y_validate-1)\r\n",
        "Y_test       = np_utils.to_categorical(Y_test-1)\r\n",
        "\r\n",
        "# convert data to NHWC (trials, channels, samples, kernels) format. Data \r\n",
        "# contains 60 channels and 151 time-points. Set the number of kernels to 1.\r\n",
        "X_train      = X_train.reshape(X_train.shape[0], chans, samples, kernels)\r\n",
        "X_validate   = X_validate.reshape(X_validate.shape[0], chans, samples, kernels)\r\n",
        "X_test       = X_test.reshape(X_test.shape[0], chans, samples, kernels)\r\n",
        "   \r\n",
        "print('X_train shape:', X_train.shape)\r\n",
        "print(X_train.shape[0], 'train samples')\r\n",
        "print(X_test.shape[0], 'test samples')"
      ],
      "outputs": [
        {
          "output_type": "stream",
          "name": "stdout",
          "text": [
            "Using tf version = 2.6.0\n",
            "Using tf version = 2.6.0\n",
            "Using default location ~/mne_data for sample...\n",
            "Creating ~/mne_data\n",
            "Downloading archive MNE-sample-data-processed.tar.gz to /root/mne_data\n",
            "Downloading https://files.osf.io/v1/resources/rxvq7/providers/osfstorage/59c0e26f9ad5a1025c4ab159?version=5&action=download&direct (1.54 GB)\n"
          ]
        },
        {
          "output_type": "display_data",
          "data": {
            "application/vnd.jupyter.widget-view+json": {
              "model_id": "74c8072a4a0b4cc0b69c7c320c7b6b20",
              "version_minor": 0,
              "version_major": 2
            },
            "text/plain": [
              "  0%|          | Downloading : 0.00/1.54G [00:00<?,        ?B/s]"
            ]
          },
          "metadata": {}
        },
        {
          "output_type": "stream",
          "name": "stdout",
          "text": [
            "Verifying hash 12b75d1cb7df9dfb4ad73ed82f61094f.\n",
            "Decompressing the archive: /root/mne_data/MNE-sample-data-processed.tar.gz\n",
            "(please be patient, this can take some time)\n",
            "Successfully extracted to: ['/root/mne_data/MNE-sample-data']\n",
            "Attempting to create new mne-python configuration file:\n",
            "/root/.mne/mne-python.json\n",
            "X_train shape: (144, 60, 151, 1)\n",
            "144 train samples\n",
            "72 test samples\n"
          ]
        }
      ],
      "metadata": {
        "colab": {
          "base_uri": "https://localhost:8080/",
          "height": 304,
          "referenced_widgets": [
            "74c8072a4a0b4cc0b69c7c320c7b6b20",
            "0e0efa06707648f48342809742ff7b1a",
            "7f7a6bff868742e880e8f852dd06682c",
            "9b6a00af9e1049d9b9769ff3ea1a409c",
            "1907af2f695d494195466c79cd1a603e",
            "f9555d9f2ace43cbb2a3ff24bbf471fa",
            "caeb9a60981d4bc68e528b54f069f43c",
            "ff0627d0a29b4718a7250802ba82f577",
            "24a02636a6b447b8b31f44c8e00f9069",
            "a0b17981e7994743a7ceea417cdabeef",
            "ddc421db20ab47579bb8cba81d1c0bda"
          ]
        },
        "id": "naScmmLGFfbD",
        "outputId": "30bd69e9-b130-41d8-cb31-5fda33054ab6"
      }
    },
    {
      "cell_type": "code",
      "execution_count": 6,
      "source": [
        "# configure the EEGNet-8,2,16 model with kernel length of 32 samples (other \r\n",
        "# model configurations may do better, but this is a good starting point)\r\n",
        "model = EEGNet(nb_classes = 4, Chans = chans, Samples = samples, \r\n",
        "               dropoutRate = 0.5, kernLength = 32, F1 = 8, D = 2, F2 = 16, \r\n",
        "               dropoutType = 'Dropout')\r\n",
        "\r\n",
        "# compile the model and set the optimizers\r\n",
        "model.compile(loss='categorical_crossentropy', optimizer='adam', \r\n",
        "              metrics = ['accuracy'])\r\n",
        "\r\n",
        "# count number of parameters in the model\r\n",
        "numParams    = model.count_params()    \r\n",
        "\r\n",
        "# set a valid path for your system to record model checkpoints\r\n",
        "checkpointer = ModelCheckpoint(filepath='/tmp/checkpoint.h5', verbose=1,\r\n",
        "                               save_best_only=True)\r\n",
        "\r\n",
        "###############################################################################\r\n",
        "# if the classification task was imbalanced (significantly more trials in one\r\n",
        "# class versus the others) you can assign a weight to each class during \r\n",
        "# optimization to balance it out. This data is approximately balanced so we \r\n",
        "# don't need to do this, but is shown here for illustration/completeness. \r\n",
        "###############################################################################\r\n",
        "\r\n",
        "# the syntax is {class_1:weight_1, class_2:weight_2,...}. Here just setting\r\n",
        "# the weights all to be 1\r\n",
        "class_weights = {0:1, 1:1, 2:1, 3:1}"
      ],
      "outputs": [
        {
          "output_type": "stream",
          "name": "stdout",
          "text": [
            "WARNING:tensorflow:From /usr/local/lib/python3.7/dist-packages/keras/layers/normalization/batch_normalization.py:520: _colocate_with (from tensorflow.python.framework.ops) is deprecated and will be removed in a future version.\n",
            "Instructions for updating:\n",
            "Colocations handled automatically by placer.\n"
          ]
        }
      ],
      "metadata": {
        "colab": {
          "base_uri": "https://localhost:8080/"
        },
        "id": "suI5eEbCGwOA",
        "outputId": "26a11756-78a7-48da-e794-711e7e0ce322"
      }
    },
    {
      "cell_type": "code",
      "execution_count": 7,
      "source": [
        "fittedModel = model.fit(X_train, Y_train, batch_size = 16, epochs = 5, \r\n",
        "                        verbose = 2, validation_data=(X_validate, Y_validate),\r\n",
        "                        callbacks=[checkpointer], class_weight = class_weights)"
      ],
      "outputs": [
        {
          "output_type": "stream",
          "name": "stdout",
          "text": [
            "Train on 144 samples, validate on 72 samples\n",
            "Epoch 1/5\n"
          ]
        },
        {
          "output_type": "stream",
          "name": "stderr",
          "text": [
            "/usr/local/lib/python3.7/dist-packages/keras/engine/training.py:2470: UserWarning: `Model.state_updates` will be removed in a future version. This property should not be used in TensorFlow 2.0, as `updates` are applied automatically.\n",
            "  warnings.warn('`Model.state_updates` will be removed in a future version. '\n"
          ]
        },
        {
          "output_type": "stream",
          "name": "stdout",
          "text": [
            "\n",
            "Epoch 00001: val_loss improved from inf to 1.38636, saving model to /tmp/checkpoint.h5\n",
            "144/144 - 33s - loss: 1.3995 - accuracy: 0.2292 - val_loss: 1.3864 - val_accuracy: 0.2361\n",
            "Epoch 2/5\n",
            "\n",
            "Epoch 00002: val_loss did not improve from 1.38636\n",
            "144/144 - 0s - loss: 1.3733 - accuracy: 0.3264 - val_loss: 1.3864 - val_accuracy: 0.2361\n",
            "Epoch 3/5\n",
            "\n",
            "Epoch 00003: val_loss did not improve from 1.38636\n",
            "144/144 - 0s - loss: 1.3627 - accuracy: 0.3889 - val_loss: 1.3864 - val_accuracy: 0.2361\n",
            "Epoch 4/5\n",
            "\n",
            "Epoch 00004: val_loss did not improve from 1.38636\n",
            "144/144 - 0s - loss: 1.3425 - accuracy: 0.3819 - val_loss: 1.3864 - val_accuracy: 0.2361\n",
            "Epoch 5/5\n",
            "\n",
            "Epoch 00005: val_loss did not improve from 1.38636\n",
            "144/144 - 0s - loss: 1.3430 - accuracy: 0.4097 - val_loss: 1.3864 - val_accuracy: 0.2361\n"
          ]
        }
      ],
      "metadata": {
        "colab": {
          "base_uri": "https://localhost:8080/"
        },
        "id": "rbZmAnfJG1Hm",
        "outputId": "a1856a01-8159-4107-89a3-d6f4ea0857ea"
      }
    },
    {
      "cell_type": "code",
      "execution_count": 8,
      "source": [
        "with DeepExplain(session = K.get_session()) as de:\r\n",
        "\tinput_tensor   = model.layers[0].input\r\n",
        "\tfModel         = Model(inputs = input_tensor, outputs = model.layers[-2].output)    \r\n",
        "\ttarget_tensor  = fModel(input_tensor)    \r\n",
        "\r\n",
        "\t# can use epsilon-LRP as well if you like.\r\n",
        "\tattributions   = de.explain('deeplift', target_tensor * Y_test, input_tensor, X_test)\r\n",
        "\t# attributions = de.explain('elrp', target_tensor * Y_test, input_tensor, X_test)"
      ],
      "outputs": [
        {
          "output_type": "stream",
          "name": "stderr",
          "text": [
            "/usr/local/lib/python3.7/dist-packages/deepexplain/tf/v2_x/main.py:97: UserWarning: DeepExplain detected you are trying to use an attribution method that requires gradient override but the original gradient was used instead. You might have forgot to (re)create your graph within the DeepExlain context. Results are not reliable!\n",
            "  warnings.warn('DeepExplain detected you are trying to use an attribution method that requires '\n"
          ]
        }
      ],
      "metadata": {
        "colab": {
          "base_uri": "https://localhost:8080/"
        },
        "id": "npnxmwZuOHzH",
        "outputId": "7cd6533b-358f-4a65-e27a-1f081ca974a3"
      }
    },
    {
      "cell_type": "code",
      "execution_count": 18,
      "source": [
        "import matplotlib.pyplot as plt\r\n",
        "\r\n",
        "plt.imshow(attributions[0, :, :].squeeze())\r\n",
        "plt.xlabel('Time (seconds)')\r\n",
        "plt.ylabel('Channels')\r\n",
        "plt.show()\r\n"
      ],
      "outputs": [
        {
          "output_type": "display_data",
          "data": {
            "image/png": "[encoded data removed]",
            "text/plain": [
              "<Figure size 432x288 with 1 Axes>"
            ]
          },
          "metadata": {
            "needs_background": "light"
          }
        }
      ],
      "metadata": {
        "colab": {
          "base_uri": "https://localhost:8080/",
          "height": 198
        },
        "id": "TuMdLH6AQefM",
        "outputId": "13d8c3ac-9072-4026-c31a-ab07e44c5c9e"
      }
    },
    {
      "cell_type": "code",
      "execution_count": null,
      "source": [],
      "outputs": [],
      "metadata": {
        "id": "pCie6i67Rv4j"
      }
    }
  ]
}